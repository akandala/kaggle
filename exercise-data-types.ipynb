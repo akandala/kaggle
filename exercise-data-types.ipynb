{
 "cells": [
  {
   "cell_type": "markdown",
   "id": "651d0d26",
   "metadata": {
    "papermill": {
     "duration": 0.007828,
     "end_time": "2022-08-18T20:11:10.558653",
     "exception": false,
     "start_time": "2022-08-18T20:11:10.550825",
     "status": "completed"
    },
    "tags": []
   },
   "source": [
    "**This notebook is an exercise in the [Intro to Programming](https://www.kaggle.com/learn/intro-to-programming) course.  You can reference the tutorial at [this link](https://www.kaggle.com/alexisbcook/data-types).**\n",
    "\n",
    "---\n"
   ]
  },
  {
   "cell_type": "markdown",
   "id": "6f01985f",
   "metadata": {
    "papermill": {
     "duration": 0.006015,
     "end_time": "2022-08-18T20:11:10.571184",
     "exception": false,
     "start_time": "2022-08-18T20:11:10.565169",
     "status": "completed"
    },
    "tags": []
   },
   "source": [
    "In the tutorial, you learned about four different data types: floats, integers, strings, and booleans.  In this exercise, you'll experiment with them.\n",
    "\n",
    "# Set up the notebook\n",
    "\n",
    "Run the next code cell without changes to set up the notebook."
   ]
  },
  {
   "cell_type": "code",
   "execution_count": 1,
   "id": "1480d7d0",
   "metadata": {
    "execution": {
     "iopub.execute_input": "2022-08-18T20:11:10.586715Z",
     "iopub.status.busy": "2022-08-18T20:11:10.585749Z",
     "iopub.status.idle": "2022-08-18T20:11:10.658231Z",
     "shell.execute_reply": "2022-08-18T20:11:10.656403Z"
    },
    "papermill": {
     "duration": 0.085513,
     "end_time": "2022-08-18T20:11:10.662889",
     "exception": false,
     "start_time": "2022-08-18T20:11:10.577376",
     "status": "completed"
    },
    "tags": []
   },
   "outputs": [
    {
     "name": "stdout",
     "output_type": "stream",
     "text": [
      "Setup complete.\n"
     ]
    }
   ],
   "source": [
    "# Set up the exercise\n",
    "from learntools.core import binder\n",
    "binder.bind(globals())\n",
    "from learntools.intro_to_programming.ex3 import *\n",
    "print('Setup complete.')"
   ]
  },
  {
   "cell_type": "markdown",
   "id": "b1fd63d5",
   "metadata": {
    "papermill": {
     "duration": 0.006151,
     "end_time": "2022-08-18T20:11:10.676085",
     "exception": false,
     "start_time": "2022-08-18T20:11:10.669934",
     "status": "completed"
    },
    "tags": []
   },
   "source": [
    "# Question 1\n",
    "\n",
    "You have seen how to convert a float to an integer with the `int` function.  Try this out yourself by running the code cell below."
   ]
  },
  {
   "cell_type": "code",
   "execution_count": 2,
   "id": "9cbb2f5b",
   "metadata": {
    "execution": {
     "iopub.execute_input": "2022-08-18T20:11:10.691644Z",
     "iopub.status.busy": "2022-08-18T20:11:10.690801Z",
     "iopub.status.idle": "2022-08-18T20:11:10.698150Z",
     "shell.execute_reply": "2022-08-18T20:11:10.696280Z"
    },
    "papermill": {
     "duration": 0.019649,
     "end_time": "2022-08-18T20:11:10.702345",
     "exception": false,
     "start_time": "2022-08-18T20:11:10.682696",
     "status": "completed"
    },
    "tags": []
   },
   "outputs": [
    {
     "name": "stdout",
     "output_type": "stream",
     "text": [
      "1.0\n",
      "<class 'float'>\n",
      "1\n",
      "<class 'int'>\n"
     ]
    }
   ],
   "source": [
    "# Define a float\n",
    "y = 1.\n",
    "print(y)\n",
    "print(type(y))\n",
    "\n",
    "# Convert float to integer with the int function\n",
    "z = int(y)\n",
    "print(z)\n",
    "print(type(z))"
   ]
  },
  {
   "cell_type": "markdown",
   "id": "49fa3f12",
   "metadata": {
    "papermill": {
     "duration": 0.006608,
     "end_time": "2022-08-18T20:11:10.716377",
     "exception": false,
     "start_time": "2022-08-18T20:11:10.709769",
     "status": "completed"
    },
    "tags": []
   },
   "source": [
    "In this case, the float you are using has no numbers after the decimal.  \n",
    "- But what happens when you try to convert a float with a fractional part to an integer?  \n",
    "- How does the outcome of the `int` function change for positive and negative numbers?\n",
    "\n",
    "Use the next code cell to investigate and answer these questions.  Feel free to add or remove any lines of code -- it is your workspace!"
   ]
  },
  {
   "cell_type": "code",
   "execution_count": 3,
   "id": "b48bb907",
   "metadata": {
    "execution": {
     "iopub.execute_input": "2022-08-18T20:11:10.732906Z",
     "iopub.status.busy": "2022-08-18T20:11:10.732008Z",
     "iopub.status.idle": "2022-08-18T20:11:10.740231Z",
     "shell.execute_reply": "2022-08-18T20:11:10.738152Z"
    },
    "papermill": {
     "duration": 0.020742,
     "end_time": "2022-08-18T20:11:10.744026",
     "exception": false,
     "start_time": "2022-08-18T20:11:10.723284",
     "status": "completed"
    },
    "tags": []
   },
   "outputs": [
    {
     "name": "stdout",
     "output_type": "stream",
     "text": [
      "1\n",
      "1\n",
      "-3\n",
      "-2\n"
     ]
    }
   ],
   "source": [
    "# Uncomment and run this code to get started!\n",
    "print(int(1.2321))\n",
    "print(int(1.747))\n",
    "print(int(-3.94535))\n",
    "print(int(-2.19774))"
   ]
  },
  {
   "cell_type": "markdown",
   "id": "48900cf9",
   "metadata": {
    "papermill": {
     "duration": 0.006535,
     "end_time": "2022-08-18T20:11:10.757676",
     "exception": false,
     "start_time": "2022-08-18T20:11:10.751141",
     "status": "completed"
    },
    "tags": []
   },
   "source": [
    "Once you have an answer, run the code cell below to see the solution.  Viewing the solution will give you credit for answering the problem."
   ]
  },
  {
   "cell_type": "code",
   "execution_count": 4,
   "id": "e8e979c6",
   "metadata": {
    "execution": {
     "iopub.execute_input": "2022-08-18T20:11:10.774057Z",
     "iopub.status.busy": "2022-08-18T20:11:10.773176Z",
     "iopub.status.idle": "2022-08-18T20:11:10.786508Z",
     "shell.execute_reply": "2022-08-18T20:11:10.784835Z"
    },
    "papermill": {
     "duration": 0.024879,
     "end_time": "2022-08-18T20:11:10.789452",
     "exception": false,
     "start_time": "2022-08-18T20:11:10.764573",
     "status": "completed"
    },
    "tags": []
   },
   "outputs": [
    {
     "data": {
      "application/javascript": [
       "parent.postMessage({\"jupyterEvent\": \"custom.exercise_interaction\", \"data\": {\"outcomeType\": 1, \"valueTowardsCompletion\": 0.2, \"interactionType\": 1, \"questionType\": 4, \"questionId\": \"1_FloatToInt\", \"learnToolsVersion\": \"0.3.4\", \"failureMessage\": \"\", \"exceptionClass\": \"\", \"trace\": \"\"}}, \"*\")"
      ],
      "text/plain": [
       "<IPython.core.display.Javascript object>"
      ]
     },
     "metadata": {},
     "output_type": "display_data"
    },
    {
     "data": {
      "text/markdown": [
       "<span style=\"color:#33cc33\">Correct:</span> \n",
       "\n",
       "Negative floats are always rounded UP to the closest integer (for instance, both -1.1 and -1.9 are rounded up to -1). Positive floats are always rounded DOWN to the closest integer (for instance, 2.1 and 2.9 are rounded down to 2)."
      ],
      "text/plain": [
       "Correct: \n",
       "\n",
       "Negative floats are always rounded UP to the closest integer (for instance, both -1.1 and -1.9 are rounded up to -1). Positive floats are always rounded DOWN to the closest integer (for instance, 2.1 and 2.9 are rounded down to 2)."
      ]
     },
     "metadata": {},
     "output_type": "display_data"
    }
   ],
   "source": [
    "# Check your answer (Run this code cell to receive credit!)\n",
    "q1.check()"
   ]
  },
  {
   "cell_type": "markdown",
   "id": "468017be",
   "metadata": {
    "papermill": {
     "duration": 0.00732,
     "end_time": "2022-08-18T20:11:10.804315",
     "exception": false,
     "start_time": "2022-08-18T20:11:10.796995",
     "status": "completed"
    },
    "tags": []
   },
   "source": [
    "# Question 2\n",
    "\n",
    "In the tutorial, you learned about booleans (which can take a value of `True` or `False`), in addition to integers, floats, and strings.  For this question, your goal is to determine what happens when you multiply a boolean by any of these data types.  Specifically, \n",
    "- What happens when you multiply an integer or float by `True`?  What happens when you multiply them by `False`?  How does the answer change if the numbers are positive or negative?\n",
    "- What happens when you multiply a string by `True`?  By `False`?\n",
    "\n",
    "Use the next code cell for your investigation. "
   ]
  },
  {
   "cell_type": "code",
   "execution_count": 5,
   "id": "3759eff9",
   "metadata": {
    "execution": {
     "iopub.execute_input": "2022-08-18T20:11:10.823254Z",
     "iopub.status.busy": "2022-08-18T20:11:10.822806Z",
     "iopub.status.idle": "2022-08-18T20:11:10.829265Z",
     "shell.execute_reply": "2022-08-18T20:11:10.828297Z"
    },
    "papermill": {
     "duration": 0.020319,
     "end_time": "2022-08-18T20:11:10.832747",
     "exception": false,
     "start_time": "2022-08-18T20:11:10.812428",
     "status": "completed"
    },
    "tags": []
   },
   "outputs": [
    {
     "name": "stdout",
     "output_type": "stream",
     "text": [
      "3\n",
      "-3.1\n",
      "0\n",
      "<class 'str'>\n",
      "0\n"
     ]
    }
   ],
   "source": [
    "# Uncomment and run this code to get started!\n",
    "print(3 * True)\n",
    "print(-3.1 * True)\n",
    "print(2 * False)\n",
    "print(type(\"abc\" * False))\n",
    "print(len(\"abc\" * False))"
   ]
  },
  {
   "cell_type": "markdown",
   "id": "d341d37d",
   "metadata": {
    "papermill": {
     "duration": 0.007312,
     "end_time": "2022-08-18T20:11:10.848843",
     "exception": false,
     "start_time": "2022-08-18T20:11:10.841531",
     "status": "completed"
    },
    "tags": []
   },
   "source": [
    "Once you have an answer, run the code cell below to see the solution.  Viewing the solution will give you credit for answering the problem."
   ]
  },
  {
   "cell_type": "code",
   "execution_count": 6,
   "id": "ea3a1c00",
   "metadata": {
    "execution": {
     "iopub.execute_input": "2022-08-18T20:11:10.865781Z",
     "iopub.status.busy": "2022-08-18T20:11:10.865324Z",
     "iopub.status.idle": "2022-08-18T20:11:10.875107Z",
     "shell.execute_reply": "2022-08-18T20:11:10.873782Z"
    },
    "papermill": {
     "duration": 0.0213,
     "end_time": "2022-08-18T20:11:10.877582",
     "exception": false,
     "start_time": "2022-08-18T20:11:10.856282",
     "status": "completed"
    },
    "tags": []
   },
   "outputs": [
    {
     "data": {
      "application/javascript": [
       "parent.postMessage({\"jupyterEvent\": \"custom.exercise_interaction\", \"data\": {\"outcomeType\": 1, \"valueTowardsCompletion\": 0.2, \"interactionType\": 1, \"questionType\": 4, \"questionId\": \"2_MultiplyBooleans\", \"learnToolsVersion\": \"0.3.4\", \"failureMessage\": \"\", \"exceptionClass\": \"\", \"trace\": \"\"}}, \"*\")"
      ],
      "text/plain": [
       "<IPython.core.display.Javascript object>"
      ]
     },
     "metadata": {},
     "output_type": "display_data"
    },
    {
     "data": {
      "text/markdown": [
       "<span style=\"color:#33cc33\">Correct:</span> \n",
       "\n",
       "When you multiple an integer or float by a boolean with value `True`, it just returns that same integer or float (and is equivalent to multiplying by 1).  If you multiply an integer or float by a boolean with value `False`, it always returns 0.  This is true for both positive and negative numbers.  If you multiply a string by a boolean with value `True`, it just returns that same string.  And if you multiply a string by a boolean with value `False`, it returns an empty string (or a string with length zero)."
      ],
      "text/plain": [
       "Correct: \n",
       "\n",
       "When you multiple an integer or float by a boolean with value `True`, it just returns that same integer or float (and is equivalent to multiplying by 1).  If you multiply an integer or float by a boolean with value `False`, it always returns 0.  This is true for both positive and negative numbers.  If you multiply a string by a boolean with value `True`, it just returns that same string.  And if you multiply a string by a boolean with value `False`, it returns an empty string (or a string with length zero)."
      ]
     },
     "metadata": {},
     "output_type": "display_data"
    }
   ],
   "source": [
    "# Check your answer (Run this code cell to receive credit!)\n",
    "q2.check()"
   ]
  },
  {
   "cell_type": "markdown",
   "id": "5661a318",
   "metadata": {
    "papermill": {
     "duration": 0.00723,
     "end_time": "2022-08-18T20:11:10.893471",
     "exception": false,
     "start_time": "2022-08-18T20:11:10.886241",
     "status": "completed"
    },
    "tags": []
   },
   "source": [
    "# Question 3\n",
    "\n",
    "In this question, you will build off your work from the previous exercise to write a function that estimates the value of a house.\n",
    "\n",
    "Use the next code cell to create a function `get_expected_cost` that takes as input three variables:\n",
    "- `beds` - number of bedrooms (data type float)\n",
    "- `baths` - number of bathrooms (data type float)\n",
    "- `has_basement` - whether or not the house has a basement (data type boolean)\n",
    "\n",
    "It should return the expected cost of a house with those characteristics. Assume that:\n",
    "- the expected cost for a house with 0 bedrooms and 0 bathrooms, and no basement is 80000, \n",
    "- each bedroom adds 30000 to the expected cost,\n",
    "- each bathroom adds 10000 to the expected cost, and\n",
    "- a basement adds 40000 to the expected cost.\n",
    "\n",
    "For instance,\n",
    "- a house with 1 bedroom, 1 bathroom, and no basement has an expected cost of 80000 + 30000 + 10000 = 120000.  This value will be calculated with `get_expected_cost(1, 1, False)`.\n",
    "- a house with 2 bedrooms, 1 bathroom, and a basement has an expected cost of 80000 + 2*30000 + 10000 + 40000 = 190000.  This value will be calculated with `get_expected_cost(2, 1, True)`.\n",
    "\n",
    "Remember you can always get a hint by uncommenting `q3.hint()` in the code cell following the next!"
   ]
  },
  {
   "cell_type": "code",
   "execution_count": 7,
   "id": "f7cc662b",
   "metadata": {
    "execution": {
     "iopub.execute_input": "2022-08-18T20:11:10.911649Z",
     "iopub.status.busy": "2022-08-18T20:11:10.911247Z",
     "iopub.status.idle": "2022-08-18T20:11:10.921994Z",
     "shell.execute_reply": "2022-08-18T20:11:10.920496Z"
    },
    "papermill": {
     "duration": 0.023062,
     "end_time": "2022-08-18T20:11:10.925094",
     "exception": false,
     "start_time": "2022-08-18T20:11:10.902032",
     "status": "completed"
    },
    "tags": []
   },
   "outputs": [
    {
     "data": {
      "application/javascript": [
       "parent.postMessage({\"jupyterEvent\": \"custom.exercise_interaction\", \"data\": {\"outcomeType\": 1, \"valueTowardsCompletion\": 0.2, \"interactionType\": 1, \"questionType\": 2, \"questionId\": \"3_EstimateHouseValueBool\", \"learnToolsVersion\": \"0.3.4\", \"failureMessage\": \"\", \"exceptionClass\": \"\", \"trace\": \"\"}}, \"*\")"
      ],
      "text/plain": [
       "<IPython.core.display.Javascript object>"
      ]
     },
     "metadata": {},
     "output_type": "display_data"
    },
    {
     "data": {
      "text/markdown": [
       "<span style=\"color:#33cc33\">Correct</span>"
      ],
      "text/plain": [
       "Correct"
      ]
     },
     "metadata": {},
     "output_type": "display_data"
    }
   ],
   "source": [
    "# TODO: Complete the function\n",
    "def get_expected_cost(beds, baths, has_basement):\n",
    "    house_cost = 80000\n",
    "    individual_bedroom_cost = 30000\n",
    "    individual_bathroom_cost = 10000\n",
    "    basement_cost = 40000\n",
    "    value = house_cost + (individual_bedroom_cost * beds) + (individual_bathroom_cost * baths) + (basement_cost * has_basement)\n",
    "    return value\n",
    "\n",
    "# Check your answer \n",
    "q3.check()"
   ]
  },
  {
   "cell_type": "code",
   "execution_count": 8,
   "id": "348790e3",
   "metadata": {
    "execution": {
     "iopub.execute_input": "2022-08-18T20:11:10.942740Z",
     "iopub.status.busy": "2022-08-18T20:11:10.942347Z",
     "iopub.status.idle": "2022-08-18T20:11:10.946170Z",
     "shell.execute_reply": "2022-08-18T20:11:10.945161Z"
    },
    "papermill": {
     "duration": 0.015307,
     "end_time": "2022-08-18T20:11:10.948303",
     "exception": false,
     "start_time": "2022-08-18T20:11:10.932996",
     "status": "completed"
    },
    "tags": []
   },
   "outputs": [],
   "source": [
    "# Uncomment to see a hint\n",
    "#q3.hint()\n",
    "\n",
    "# Uncomment to view the solution\n",
    "#q3.solution()"
   ]
  },
  {
   "cell_type": "markdown",
   "id": "0dd840a3",
   "metadata": {
    "papermill": {
     "duration": 0.007593,
     "end_time": "2022-08-18T20:11:10.963905",
     "exception": false,
     "start_time": "2022-08-18T20:11:10.956312",
     "status": "completed"
    },
    "tags": []
   },
   "source": [
    "# Question 4\n",
    "\n",
    "We'll continue our study of boolean arithmetic.  For this question, your task is to provide a description of what happpens when you add booleans. \n",
    "\n",
    "Use the next code cell for your investigation.  Feel free to add or remove any lines of code - use it as your workspace!"
   ]
  },
  {
   "cell_type": "code",
   "execution_count": 9,
   "id": "40ae7240",
   "metadata": {
    "execution": {
     "iopub.execute_input": "2022-08-18T20:11:10.981823Z",
     "iopub.status.busy": "2022-08-18T20:11:10.981119Z",
     "iopub.status.idle": "2022-08-18T20:11:10.987830Z",
     "shell.execute_reply": "2022-08-18T20:11:10.986131Z"
    },
    "papermill": {
     "duration": 0.018943,
     "end_time": "2022-08-18T20:11:10.990801",
     "exception": false,
     "start_time": "2022-08-18T20:11:10.971858",
     "status": "completed"
    },
    "tags": []
   },
   "outputs": [
    {
     "name": "stdout",
     "output_type": "stream",
     "text": [
      "0\n",
      "1\n",
      "1\n",
      "2\n",
      "3\n"
     ]
    }
   ],
   "source": [
    "print(False + False)\n",
    "print(True + False)\n",
    "print(False + True)\n",
    "print(True + True)\n",
    "print(False + True + True + True)"
   ]
  },
  {
   "cell_type": "markdown",
   "id": "147219ee",
   "metadata": {
    "papermill": {
     "duration": 0.007974,
     "end_time": "2022-08-18T20:11:11.006983",
     "exception": false,
     "start_time": "2022-08-18T20:11:10.999009",
     "status": "completed"
    },
    "tags": []
   },
   "source": [
    "Once you have an answer, run the code cell below to see the solution.  Viewing the solution will give you credit for answering the problem."
   ]
  },
  {
   "cell_type": "code",
   "execution_count": 10,
   "id": "18f4f151",
   "metadata": {
    "execution": {
     "iopub.execute_input": "2022-08-18T20:11:11.025436Z",
     "iopub.status.busy": "2022-08-18T20:11:11.024438Z",
     "iopub.status.idle": "2022-08-18T20:11:11.033441Z",
     "shell.execute_reply": "2022-08-18T20:11:11.032338Z"
    },
    "papermill": {
     "duration": 0.020996,
     "end_time": "2022-08-18T20:11:11.036137",
     "exception": false,
     "start_time": "2022-08-18T20:11:11.015141",
     "status": "completed"
    },
    "tags": []
   },
   "outputs": [
    {
     "data": {
      "application/javascript": [
       "parent.postMessage({\"jupyterEvent\": \"custom.exercise_interaction\", \"data\": {\"outcomeType\": 1, \"valueTowardsCompletion\": 0.2, \"interactionType\": 1, \"questionType\": 4, \"questionId\": \"4_AddingBooleans\", \"learnToolsVersion\": \"0.3.4\", \"failureMessage\": \"\", \"exceptionClass\": \"\", \"trace\": \"\"}}, \"*\")"
      ],
      "text/plain": [
       "<IPython.core.display.Javascript object>"
      ]
     },
     "metadata": {},
     "output_type": "display_data"
    },
    {
     "data": {
      "text/markdown": [
       "<span style=\"color:#33cc33\">Correct:</span> \n",
       "\n",
       "When you add booleans, adding `False` is equivalent to adding 0, and adding `True` is equivalent to adding 1."
      ],
      "text/plain": [
       "Correct: \n",
       "\n",
       "When you add booleans, adding `False` is equivalent to adding 0, and adding `True` is equivalent to adding 1."
      ]
     },
     "metadata": {},
     "output_type": "display_data"
    }
   ],
   "source": [
    "# Check your answer (Run this code cell to receive credit!)\n",
    "q4.check()"
   ]
  },
  {
   "cell_type": "markdown",
   "id": "38288d35",
   "metadata": {
    "papermill": {
     "duration": 0.007732,
     "end_time": "2022-08-18T20:11:11.052099",
     "exception": false,
     "start_time": "2022-08-18T20:11:11.044367",
     "status": "completed"
    },
    "tags": []
   },
   "source": [
    "# 🌶️ Question 5\n",
    "\n",
    "You own an online shop where you sell rings with custom engravings.  You offer both gold plated and solid gold rings.\n",
    "- Gold plated rings have a base cost of \\\\$50, and you charge \\\\$7 per engraved unit.  \n",
    "- Solid gold rings have a base cost of \\\\$100, and you charge \\\\$10 per engraved unit.\n",
    "- Spaces and punctuation are counted as engraved units.\n",
    "\n",
    "Write a function `cost_of_project()` that takes two arguments:\n",
    "- `engraving` - a Python string with the text of the engraving\n",
    "- `solid_gold` - a Boolean that indicates whether the ring is solid gold\n",
    "\n",
    "It should return the cost of the project.  This question should be fairly challenging, and you may need a hint."
   ]
  },
  {
   "cell_type": "code",
   "execution_count": 11,
   "id": "25983784",
   "metadata": {
    "execution": {
     "iopub.execute_input": "2022-08-18T20:11:11.070764Z",
     "iopub.status.busy": "2022-08-18T20:11:11.070012Z",
     "iopub.status.idle": "2022-08-18T20:11:11.081264Z",
     "shell.execute_reply": "2022-08-18T20:11:11.080377Z"
    },
    "papermill": {
     "duration": 0.023175,
     "end_time": "2022-08-18T20:11:11.083444",
     "exception": false,
     "start_time": "2022-08-18T20:11:11.060269",
     "status": "completed"
    },
    "tags": []
   },
   "outputs": [
    {
     "data": {
      "application/javascript": [
       "parent.postMessage({\"jupyterEvent\": \"custom.exercise_interaction\", \"data\": {\"outcomeType\": 1, \"valueTowardsCompletion\": 0.2, \"interactionType\": 1, \"questionType\": 2, \"questionId\": \"5_CustomEngravings\", \"learnToolsVersion\": \"0.3.4\", \"failureMessage\": \"\", \"exceptionClass\": \"\", \"trace\": \"\"}}, \"*\")"
      ],
      "text/plain": [
       "<IPython.core.display.Javascript object>"
      ]
     },
     "metadata": {},
     "output_type": "display_data"
    },
    {
     "data": {
      "text/markdown": [
       "<span style=\"color:#33cc33\">Correct</span>"
      ],
      "text/plain": [
       "Correct"
      ]
     },
     "metadata": {},
     "output_type": "display_data"
    }
   ],
   "source": [
    "def cost_of_project(engraving, solid_gold):\n",
    "    gold_plated_cost = 50\n",
    "    gold_plated_engraving_unit_cost = 7\n",
    "    solid_gold_cost = 100\n",
    "    solid_plated_engraving_unit_cost = 10\n",
    "    cost = 0\n",
    "    if not solid_gold:\n",
    "        cost = gold_plated_cost + (gold_plated_engraving_unit_cost * len(engraving))\n",
    "    else:\n",
    "        cost = solid_gold_cost + (solid_plated_engraving_unit_cost * len(engraving))\n",
    "    return cost\n",
    "\n",
    "# Check your answer\n",
    "q5.check()"
   ]
  },
  {
   "cell_type": "code",
   "execution_count": 12,
   "id": "098a1778",
   "metadata": {
    "execution": {
     "iopub.execute_input": "2022-08-18T20:11:11.101235Z",
     "iopub.status.busy": "2022-08-18T20:11:11.100814Z",
     "iopub.status.idle": "2022-08-18T20:11:11.105698Z",
     "shell.execute_reply": "2022-08-18T20:11:11.104573Z"
    },
    "papermill": {
     "duration": 0.016779,
     "end_time": "2022-08-18T20:11:11.107956",
     "exception": false,
     "start_time": "2022-08-18T20:11:11.091177",
     "status": "completed"
    },
    "tags": []
   },
   "outputs": [],
   "source": [
    "# Uncomment to see a hint\n",
    "#q5.hint()\n",
    "\n",
    "# Uncomment to view the solution\n",
    "#q5.solution()"
   ]
  },
  {
   "cell_type": "markdown",
   "id": "baa3b9bd",
   "metadata": {
    "papermill": {
     "duration": 0.008122,
     "end_time": "2022-08-18T20:11:11.124510",
     "exception": false,
     "start_time": "2022-08-18T20:11:11.116388",
     "status": "completed"
    },
    "tags": []
   },
   "source": [
    "Run the next code cell to calculate the cost of engraving `Charlie+Denver` on a solid gold ring."
   ]
  },
  {
   "cell_type": "code",
   "execution_count": 13,
   "id": "e57cd10d",
   "metadata": {
    "execution": {
     "iopub.execute_input": "2022-08-18T20:11:11.144178Z",
     "iopub.status.busy": "2022-08-18T20:11:11.143011Z",
     "iopub.status.idle": "2022-08-18T20:11:11.149307Z",
     "shell.execute_reply": "2022-08-18T20:11:11.148198Z"
    },
    "papermill": {
     "duration": 0.018641,
     "end_time": "2022-08-18T20:11:11.151728",
     "exception": false,
     "start_time": "2022-08-18T20:11:11.133087",
     "status": "completed"
    },
    "tags": []
   },
   "outputs": [
    {
     "name": "stdout",
     "output_type": "stream",
     "text": [
      "240\n"
     ]
    }
   ],
   "source": [
    "project_one = cost_of_project(\"Charlie+Denver\", True)\n",
    "print(project_one)"
   ]
  },
  {
   "cell_type": "markdown",
   "id": "19d90149",
   "metadata": {
    "papermill": {
     "duration": 0.008915,
     "end_time": "2022-08-18T20:11:11.169311",
     "exception": false,
     "start_time": "2022-08-18T20:11:11.160396",
     "status": "completed"
    },
    "tags": []
   },
   "source": [
    "Use the next code cell to calculate the cost of engraving `08/10/2000` on a gold plated ring."
   ]
  },
  {
   "cell_type": "code",
   "execution_count": 14,
   "id": "421eec90",
   "metadata": {
    "execution": {
     "iopub.execute_input": "2022-08-18T20:11:11.188293Z",
     "iopub.status.busy": "2022-08-18T20:11:11.187578Z",
     "iopub.status.idle": "2022-08-18T20:11:11.193826Z",
     "shell.execute_reply": "2022-08-18T20:11:11.191821Z"
    },
    "papermill": {
     "duration": 0.018705,
     "end_time": "2022-08-18T20:11:11.196472",
     "exception": false,
     "start_time": "2022-08-18T20:11:11.177767",
     "status": "completed"
    },
    "tags": []
   },
   "outputs": [
    {
     "name": "stdout",
     "output_type": "stream",
     "text": [
      "120\n"
     ]
    }
   ],
   "source": [
    "project_two = cost_of_project(\"08/10/2000\", False)\n",
    "print(project_two)"
   ]
  },
  {
   "cell_type": "markdown",
   "id": "5ad8fee6",
   "metadata": {
    "papermill": {
     "duration": 0.008061,
     "end_time": "2022-08-18T20:11:11.213352",
     "exception": false,
     "start_time": "2022-08-18T20:11:11.205291",
     "status": "completed"
    },
    "tags": []
   },
   "source": [
    "# Keep going\n",
    "\n",
    "Continue to the next lesson to **[learn about conditions and conditional statements](https://www.kaggle.com/alexisbcook/conditions-and-conditional-statements)**."
   ]
  },
  {
   "cell_type": "markdown",
   "id": "5fbe6f08",
   "metadata": {
    "papermill": {
     "duration": 0.007905,
     "end_time": "2022-08-18T20:11:11.230237",
     "exception": false,
     "start_time": "2022-08-18T20:11:11.222332",
     "status": "completed"
    },
    "tags": []
   },
   "source": [
    "---\n",
    "\n",
    "\n",
    "\n",
    "\n",
    "*Have questions or comments? Visit the [course discussion forum](https://www.kaggle.com/learn/intro-to-programming/discussion) to chat with other learners.*"
   ]
  }
 ],
 "metadata": {
  "kernelspec": {
   "display_name": "Python 3",
   "language": "python",
   "name": "python3"
  },
  "language_info": {
   "codemirror_mode": {
    "name": "ipython",
    "version": 3
   },
   "file_extension": ".py",
   "mimetype": "text/x-python",
   "name": "python",
   "nbconvert_exporter": "python",
   "pygments_lexer": "ipython3",
   "version": "3.7.12"
  },
  "papermill": {
   "default_parameters": {},
   "duration": 12.509175,
   "end_time": "2022-08-18T20:11:12.063158",
   "environment_variables": {},
   "exception": null,
   "input_path": "__notebook__.ipynb",
   "output_path": "__notebook__.ipynb",
   "parameters": {},
   "start_time": "2022-08-18T20:10:59.553983",
   "version": "2.3.4"
  }
 },
 "nbformat": 4,
 "nbformat_minor": 5
}
